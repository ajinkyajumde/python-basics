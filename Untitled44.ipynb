{
  "nbformat": 4,
  "nbformat_minor": 0,
  "metadata": {
    "colab": {
      "provenance": [],
      "authorship_tag": "ABX9TyORjd9PVgyMC/VNiq+84I6U",
      "include_colab_link": true
    },
    "kernelspec": {
      "name": "python3",
      "display_name": "Python 3"
    },
    "language_info": {
      "name": "python"
    }
  },
  "cells": [
    {
      "cell_type": "markdown",
      "metadata": {
        "id": "view-in-github",
        "colab_type": "text"
      },
      "source": [
        "<a href=\"https://colab.research.google.com/github/ajinkyajumde/python-basics/blob/main/Untitled44.ipynb\" target=\"_parent\"><img src=\"https://colab.research.google.com/assets/colab-badge.svg\" alt=\"Open In Colab\"/></a>"
      ]
    },
    {
      "cell_type": "markdown",
      "source": [
        "Find list with four distinct values\n",
        "Hard\n",
        "Write a Python program to find list integers containing exactly four distinct values, such that no integer repeats twice consecutively among the first twenty entries.\n",
        "\n",
        "Example 1:\n",
        "Input:\n",
        "[1, 2, 3, 4, 1, 2, 3, 4, 1, 2, 3, 4, 1, 2, 3, 4]\n",
        "\n",
        "Output:\n",
        "True\n",
        "\n",
        "Example 2:\n",
        "Input:\n",
        "[1, 2, 3, 3, 1, 2, 3, 3, 1, 2, 3, 3, 1, 2, 3, 3]\n",
        "\n",
        "Output:\n",
        "False\n",
        "\n",
        "Example 3:\n",
        "Input:\n",
        "[1, 2, 3, 1, 2, 3, 1, 2, 3, 1, 2, 3, 1, 2, 3]\n",
        "\n",
        "Output:\n",
        "False"
      ],
      "metadata": {
        "id": "VYXF7OpVkrTv"
      }
    },
    {
      "cell_type": "code",
      "source": [
        "n=eval(input())\n",
        "c=0\n",
        "for i in range(0,len(n)-3):\n",
        "\n",
        "  if n[i+3] in n[i:i+2]:\n",
        "      c=c+1\n",
        "  else:\n",
        "      pass\n",
        "if c==0:\n",
        "  print(True)\n",
        "else:\n",
        "  print(False) \n"
      ],
      "metadata": {
        "id": "eVTpOmxsiG2P",
        "colab": {
          "base_uri": "https://localhost:8080/"
        },
        "outputId": "dd546c05-84f5-4731-eb95-6dbf1991144f"
      },
      "execution_count": 8,
      "outputs": [
        {
          "output_type": "stream",
          "name": "stdout",
          "text": [
            "1, 2, 3, 4, 1, 2, 3, 4, 1, 2, 3, 4, 1, 2, 3, 4\n",
            "True\n"
          ]
        }
      ]
    },
    {
      "cell_type": "markdown",
      "source": [
        "Max of first ith elements\n",
        "Hard\n",
        "Write a Python program to create a list whose ith element is the maximum of the first i elements from a input list.\n",
        "\n",
        "Example 1:\n",
        "Input:\n",
        "[0, -1, 3, 8, 5, 9, 8, 14, 2, 4, 3, -10, 10, 17, 41, 22, -4, -4, -15, 0]\n",
        "\n",
        "Output:\n",
        "[0, 0, 3, 8, 8, 9, 9, 14, 14, 14, 14, 14, 14, 17, 41, 41, 41, 41, 41, 41]"
      ],
      "metadata": {
        "id": "3T7jquH_lPEi"
      }
    },
    {
      "cell_type": "code",
      "source": [
        "k=eval(input())\n",
        "j=[max(k[0:i+1]) for i in range(0,len(k))]\n",
        "print(j)"
      ],
      "metadata": {
        "colab": {
          "base_uri": "https://localhost:8080/"
        },
        "id": "O0EAiyAOj8gH",
        "outputId": "373c143b-3f7b-46a7-e5ff-9d4139a06868"
      },
      "execution_count": 11,
      "outputs": [
        {
          "output_type": "stream",
          "name": "stdout",
          "text": [
            "0, -1, 3, 8, 5, 9, 8, 14, 2, 4, 3, -10, 10, 17, 41, 22, -4, -4, -15, 0\n",
            "[0, 0, 3, 8, 8, 9, 9, 14, 14, 14, 14, 14, 14, 17, 41, 41, 41, 41, 41, 41]\n"
          ]
        }
      ]
    },
    {
      "cell_type": "code",
      "source": [],
      "metadata": {
        "id": "uR08ljQslSzb"
      },
      "execution_count": null,
      "outputs": []
    }
  ]
}
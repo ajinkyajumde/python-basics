{
  "nbformat": 4,
  "nbformat_minor": 0,
  "metadata": {
    "colab": {
      "name": "Linear Regression with Numpy.ipynb",
      "provenance": [],
      "collapsed_sections": [],
      "authorship_tag": "ABX9TyPnZAkaQwcceeIpS5uCw3z4",
      "include_colab_link": true
    },
    "kernelspec": {
      "name": "python3",
      "display_name": "Python 3"
    },
    "language_info": {
      "name": "python"
    }
  },
  "cells": [
    {
      "cell_type": "markdown",
      "metadata": {
        "id": "view-in-github",
        "colab_type": "text"
      },
      "source": [
        "<a href=\"https://colab.research.google.com/github/ajinkyajumde/python-basics/blob/main/Linear_Regression_with_Numpy.ipynb\" target=\"_parent\"><img src=\"https://colab.research.google.com/assets/colab-badge.svg\" alt=\"Open In Colab\"/></a>"
      ]
    },
    {
      "cell_type": "code",
      "source": [
        "import numpy as np"
      ],
      "metadata": {
        "id": "jrxS4yo4yCWs"
      },
      "execution_count": 543,
      "outputs": []
    },
    {
      "cell_type": "code",
      "source": [
        "# a=np.random.random_integers(1,200,5)"
      ],
      "metadata": {
        "id": "vAaeM-AT5v7W"
      },
      "execution_count": 544,
      "outputs": []
    },
    {
      "cell_type": "code",
      "source": [
        "a=np.array([0.5,2.3,2.9,3,3.8])"
      ],
      "metadata": {
        "id": "30JZ5oUJEYjl"
      },
      "execution_count": 545,
      "outputs": []
    },
    {
      "cell_type": "code",
      "source": [
        "# b=a*2+3"
      ],
      "metadata": {
        "id": "8oleweD4yOMf"
      },
      "execution_count": 546,
      "outputs": []
    },
    {
      "cell_type": "code",
      "source": [
        "# a=list(a)"
      ],
      "metadata": {
        "id": "YCjpTYiJ54T-"
      },
      "execution_count": 547,
      "outputs": []
    },
    {
      "cell_type": "code",
      "source": [
        "# b=list(b)"
      ],
      "metadata": {
        "id": "A2Km-NAQ7enI"
      },
      "execution_count": 548,
      "outputs": []
    },
    {
      "cell_type": "code",
      "source": [
        "b=np.array([1.4,1.9,3.2,3.7,4.6])"
      ],
      "metadata": {
        "id": "hWZBkZzLFdPE"
      },
      "execution_count": 549,
      "outputs": []
    },
    {
      "cell_type": "code",
      "source": [
        "m=1\n",
        "c=2"
      ],
      "metadata": {
        "id": "M-kf_7syyj9W"
      },
      "execution_count": 550,
      "outputs": []
    },
    {
      "cell_type": "code",
      "source": [
        "def prediction(a,m,c):\n",
        "  \n",
        "  b_pred=(m*a)+c\n",
        "  return b_pred"
      ],
      "metadata": {
        "id": "BPuXQ-g0yYK2"
      },
      "execution_count": 551,
      "outputs": []
    },
    {
      "cell_type": "code",
      "source": [
        "a"
      ],
      "metadata": {
        "colab": {
          "base_uri": "https://localhost:8080/"
        },
        "id": "e8v18z-TGuJU",
        "outputId": "3d65eaf9-2078-4c50-b880-e2475ef79f06"
      },
      "execution_count": 552,
      "outputs": [
        {
          "output_type": "execute_result",
          "data": {
            "text/plain": [
              "array([0.5, 2.3, 2.9, 3. , 3.8])"
            ]
          },
          "metadata": {},
          "execution_count": 552
        }
      ]
    },
    {
      "cell_type": "code",
      "source": [
        "m"
      ],
      "metadata": {
        "colab": {
          "base_uri": "https://localhost:8080/"
        },
        "id": "E_7aQevSGusK",
        "outputId": "302020a9-31fb-429d-80f9-fbe5e4543189"
      },
      "execution_count": 553,
      "outputs": [
        {
          "output_type": "execute_result",
          "data": {
            "text/plain": [
              "1"
            ]
          },
          "metadata": {},
          "execution_count": 553
        }
      ]
    },
    {
      "cell_type": "code",
      "source": [
        "c"
      ],
      "metadata": {
        "colab": {
          "base_uri": "https://localhost:8080/"
        },
        "id": "0BkTqiEiGvaP",
        "outputId": "d81cb98a-1772-410e-b3d1-3d800d3061e9"
      },
      "execution_count": 554,
      "outputs": [
        {
          "output_type": "execute_result",
          "data": {
            "text/plain": [
              "2"
            ]
          },
          "metadata": {},
          "execution_count": 554
        }
      ]
    },
    {
      "cell_type": "code",
      "source": [
        "b_pred=prediction(a,m,c)"
      ],
      "metadata": {
        "id": "F4rQ0ypkGbIi"
      },
      "execution_count": 555,
      "outputs": []
    },
    {
      "cell_type": "code",
      "source": [
        "b_pred"
      ],
      "metadata": {
        "colab": {
          "base_uri": "https://localhost:8080/"
        },
        "id": "Bb3Ij64IGkBC",
        "outputId": "851143aa-becd-4d20-d9c3-cf1ad2ecc1c4"
      },
      "execution_count": 556,
      "outputs": [
        {
          "output_type": "execute_result",
          "data": {
            "text/plain": [
              "array([2.5, 4.3, 4.9, 5. , 5.8])"
            ]
          },
          "metadata": {},
          "execution_count": 556
        }
      ]
    },
    {
      "cell_type": "code",
      "source": [
        "(b_pred-b)"
      ],
      "metadata": {
        "colab": {
          "base_uri": "https://localhost:8080/"
        },
        "id": "wTalfiu0F3kC",
        "outputId": "ed0e9aa0-2913-488b-b776-2c3223f2e734"
      },
      "execution_count": 557,
      "outputs": [
        {
          "output_type": "execute_result",
          "data": {
            "text/plain": [
              "array([1.1, 2.4, 1.7, 1.3, 1.2])"
            ]
          },
          "metadata": {},
          "execution_count": 557
        }
      ]
    },
    {
      "cell_type": "code",
      "source": [
        "def loss(x,y):\n",
        "  loss=(1/len(x))*np.sum((y-x)*(y-x))\n",
        "  return loss"
      ],
      "metadata": {
        "id": "WCjhxBfsywbI"
      },
      "execution_count": 558,
      "outputs": []
    },
    {
      "cell_type": "code",
      "source": [
        "b_pred=prediction(a,m,c)"
      ],
      "metadata": {
        "id": "KPONywf2FMah"
      },
      "execution_count": 559,
      "outputs": []
    },
    {
      "cell_type": "code",
      "source": [
        "loss(b_pred,b)"
      ],
      "metadata": {
        "colab": {
          "base_uri": "https://localhost:8080/"
        },
        "id": "q-b41jTRzXBy",
        "outputId": "c6c072ec-8428-4e58-911c-ec8bab8d10ba"
      },
      "execution_count": 560,
      "outputs": [
        {
          "output_type": "execute_result",
          "data": {
            "text/plain": [
              "2.598"
            ]
          },
          "metadata": {},
          "execution_count": 560
        }
      ]
    },
    {
      "cell_type": "code",
      "source": [
        "dm=-2*np.sum(b-(c+m*a))\n"
      ],
      "metadata": {
        "id": "5cQlVai42f7s"
      },
      "execution_count": 561,
      "outputs": []
    },
    {
      "cell_type": "code",
      "source": [
        "def cost(a,b,m,c):\n",
        "  loss=np.sum(b-(c+m*a))\n",
        "  return loss\n"
      ],
      "metadata": {
        "id": "X4hy8a1NHFWh"
      },
      "execution_count": 562,
      "outputs": []
    },
    {
      "cell_type": "code",
      "source": [
        "cost(a,b,m,c)"
      ],
      "metadata": {
        "colab": {
          "base_uri": "https://localhost:8080/"
        },
        "id": "Urimkwy1HZ-V",
        "outputId": "ba5991e0-77fa-4289-8603-639a48054768"
      },
      "execution_count": 563,
      "outputs": [
        {
          "output_type": "execute_result",
          "data": {
            "text/plain": [
              "-7.7"
            ]
          },
          "metadata": {},
          "execution_count": 563
        }
      ]
    },
    {
      "cell_type": "code",
      "source": [
        "m_rec=[]\n",
        "c_rec=[]\n",
        "l=[]\n",
        "m=1\n",
        "c=0"
      ],
      "metadata": {
        "id": "_Cm6nKLrEd4s"
      },
      "execution_count": 564,
      "outputs": []
    },
    {
      "cell_type": "code",
      "source": [
        "np.sum(-2*a*(b-(c+m*a)))"
      ],
      "metadata": {
        "colab": {
          "base_uri": "https://localhost:8080/"
        },
        "id": "TOJIB4XTMyfj",
        "outputId": "02a0fb1e-5e10-45f9-ec2a-211995ab8dc6"
      },
      "execution_count": 565,
      "outputs": [
        {
          "output_type": "execute_result",
          "data": {
            "text/plain": [
              "-11.080000000000002"
            ]
          },
          "metadata": {},
          "execution_count": 565
        }
      ]
    },
    {
      "cell_type": "code",
      "source": [
        "np.sum(-2*(b-(c+m*a)))"
      ],
      "metadata": {
        "colab": {
          "base_uri": "https://localhost:8080/"
        },
        "id": "Cwbg7OjxM2hz",
        "outputId": "c5ce4fa0-1815-44b8-fd7e-d6555c6d6064"
      },
      "execution_count": 566,
      "outputs": [
        {
          "output_type": "execute_result",
          "data": {
            "text/plain": [
              "-4.6000000000000005"
            ]
          },
          "metadata": {},
          "execution_count": 566
        }
      ]
    },
    {
      "cell_type": "code",
      "source": [
        "for i in range(0,100):\n",
        "  \n",
        "  dm=np.sum(-2*a*(b-(c+m*a)))\n",
        "  m=m-0.01*dm\n",
        "  dc=np.sum(-2*(b-(c+m*a)))\n",
        "  c=c-0.01*dc\n",
        "  m_rec.append(dm)\n",
        "  c_rec.append(dc)\n"
      ],
      "metadata": {
        "id": "wE_zReSdztBe"
      },
      "execution_count": 567,
      "outputs": []
    },
    {
      "cell_type": "code",
      "source": [
        "print(m,c)"
      ],
      "metadata": {
        "colab": {
          "base_uri": "https://localhost:8080/"
        },
        "id": "U-SWkXsb1tg3",
        "outputId": "e4ef6841-174d-4452-aaa5-9bbc5ac6cf69"
      },
      "execution_count": 568,
      "outputs": [
        {
          "output_type": "stream",
          "name": "stdout",
          "text": [
            "1.0022116179005065 0.43890950882289803\n"
          ]
        }
      ]
    },
    {
      "cell_type": "code",
      "source": [
        "m_rec"
      ],
      "metadata": {
        "colab": {
          "base_uri": "https://localhost:8080/"
        },
        "id": "LONkPrsP7KBP",
        "outputId": "d4ce7be5-84a8-4fd8-ee9d-0e62665bf443"
      },
      "execution_count": 569,
      "outputs": [
        {
          "output_type": "execute_result",
          "data": {
            "text/plain": [
              "[-11.080000000000002,\n",
              " -2.336876000000005,\n",
              " -0.3236648771999955,\n",
              " 0.13726838814515774,\n",
              " 0.24020536490677835,\n",
              " 0.26062027801107845,\n",
              " 0.2620536379735119,\n",
              " 0.2591609633434675,\n",
              " 0.25532188742609496,\n",
              " 0.2513151411967698,\n",
              " 0.24731954000374934,\n",
              " 0.24337553449371163,\n",
              " 0.23949167255945647,\n",
              " 0.23566915583858483,\n",
              " 0.23190750375958213,\n",
              " 0.22820585982451957,\n",
              " 0.2245632927254977,\n",
              " 0.22097886561070412,\n",
              " 0.21745165187448245,\n",
              " 0.21398073861561828,\n",
              " 0.2105652272539129,\n",
              " 0.20720423349435713,\n",
              " 0.20389688714349674,\n",
              " 0.20064233189465774,\n",
              " 0.19743972510862928,\n",
              " 0.19428823759597558,\n",
              " 0.19118705340269093,\n",
              " 0.18813536959871735,\n",
              " 0.18513239607021292,\n",
              " 0.18217735531497992,\n",
              " 0.17926948224106853,\n",
              " 0.17640802396883926,\n",
              " 0.17359223963588288,\n",
              " 0.17082140020524905,\n",
              " 0.16809478827676383,\n",
              " 0.1654116979011997,\n",
              " 0.1627714343975164,\n",
              " 0.16017331417306968,\n",
              " 0.1576166645464725,\n",
              " 0.15510082357359378,\n",
              " 0.15262513987608406,\n",
              " 0.15018897247275076,\n",
              " 0.14779169061357367,\n",
              " 0.1454326736164515,\n",
              " 0.143111310706439,\n",
              " 0.14082700085764044,\n",
              " 0.13857915263761944,\n",
              " 0.13636718405425885,\n",
              " 0.13419052240501816,\n",
              " 0.1320486041287423,\n",
              " 0.12994087465968507,\n",
              " 0.12786678828397458,\n",
              " 0.12582580799828902,\n",
              " 0.12381740537083141,\n",
              " 0.12184106040448794,\n",
              " 0.11989626140227116,\n",
              " 0.11798250483472605,\n",
              " 0.11609929520964979,\n",
              " 0.1142461449437775,\n",
              " 0.11242257423652147,\n",
              " 0.11062811094577052,\n",
              " 0.10886229046561846,\n",
              " 0.10712465560610651,\n",
              " 0.10541475647484777,\n",
              " 0.10373215036052841,\n",
              " 0.10207640161828868,\n",
              " 0.10044708155689541,\n",
              " 0.09884376832783692,\n",
              " 0.09726604681604689,\n",
              " 0.09571350853240634,\n",
              " 0.09418575150799047,\n",
              " 0.09268238019007002,\n",
              " 0.0912030053396018,\n",
              " 0.08974724393047628,\n",
              " 0.08831471905036326,\n",
              " 0.08690505980314267,\n",
              " 0.08551790121282643,\n",
              " 0.08415288412909483,\n",
              " 0.08280965513432559,\n",
              " 0.08148786645205064,\n",
              " 0.08018717585690283,\n",
              " 0.07890724658610626,\n",
              " 0.07764774725213286,\n",
              " 0.07640835175704952,\n",
              " 0.07518873920801594,\n",
              " 0.07398859383414313,\n",
              " 0.07280760490491067,\n",
              " 0.07164546664950988,\n",
              " 0.07050187817785325,\n",
              " 0.06937654340253552,\n",
              " 0.0682691709622345,\n",
              " 0.06717947414633008,\n",
              " 0.0661071708205303,\n",
              " 0.06505198335397022,\n",
              " 0.0640136385472192,\n",
              " 0.062991867561621,\n",
              " 0.06198640584965487,\n",
              " 0.06099699308644846,\n",
              " 0.06002337310234962,\n",
              " 0.059065293816649156]"
            ]
          },
          "metadata": {},
          "execution_count": 569
        }
      ]
    },
    {
      "cell_type": "code",
      "source": [
        "m"
      ],
      "metadata": {
        "colab": {
          "base_uri": "https://localhost:8080/"
        },
        "id": "LbcGHiq8NH2N",
        "outputId": "2a15cef0-056d-47c8-d31e-41bd9306fb8e"
      },
      "execution_count": 570,
      "outputs": [
        {
          "output_type": "execute_result",
          "data": {
            "text/plain": [
              "1.0022116179005065"
            ]
          },
          "metadata": {},
          "execution_count": 570
        }
      ]
    },
    {
      "cell_type": "code",
      "source": [
        "c"
      ],
      "metadata": {
        "colab": {
          "base_uri": "https://localhost:8080/"
        },
        "id": "HAfCNKbdNJkB",
        "outputId": "b886c43c-8d18-42fc-a746-909ee0d0c4ad"
      },
      "execution_count": 571,
      "outputs": [
        {
          "output_type": "execute_result",
          "data": {
            "text/plain": [
              "0.43890950882289803"
            ]
          },
          "metadata": {},
          "execution_count": 571
        }
      ]
    },
    {
      "cell_type": "code",
      "source": [
        "b_pred=prediction(a,m,c)"
      ],
      "metadata": {
        "id": "elD-9g0qNSXw"
      },
      "execution_count": 572,
      "outputs": []
    },
    {
      "cell_type": "code",
      "source": [
        "b"
      ],
      "metadata": {
        "colab": {
          "base_uri": "https://localhost:8080/"
        },
        "id": "2X4EW3dGNgGp",
        "outputId": "a57c9bcc-e11d-40ab-a505-1752df112ad3"
      },
      "execution_count": 573,
      "outputs": [
        {
          "output_type": "execute_result",
          "data": {
            "text/plain": [
              "array([1.4, 1.9, 3.2, 3.7, 4.6])"
            ]
          },
          "metadata": {},
          "execution_count": 573
        }
      ]
    },
    {
      "cell_type": "code",
      "source": [
        "b_pred"
      ],
      "metadata": {
        "colab": {
          "base_uri": "https://localhost:8080/"
        },
        "id": "v9OlR8AANgDL",
        "outputId": "93e896b1-2a52-49ba-963f-196675ea373f"
      },
      "execution_count": 574,
      "outputs": [
        {
          "output_type": "execute_result",
          "data": {
            "text/plain": [
              "array([0.94001532, 2.74399623, 3.3453232 , 3.44554436, 4.24731366])"
            ]
          },
          "metadata": {},
          "execution_count": 574
        }
      ]
    },
    {
      "cell_type": "code",
      "source": [
        "import matplotlib as plt\n",
        "import seaborn as sns\n",
        "sns.scatterplot(x = a, y = b, color='r', lw=3)\n",
        "sns.lineplot(x = a, y = b_pred, color='g', lw=3)\n"
      ],
      "metadata": {
        "colab": {
          "base_uri": "https://localhost:8080/",
          "height": 282
        },
        "id": "afQH8fWN4ceT",
        "outputId": "9b4bf441-37be-42b2-f3bb-9fce567b8a75"
      },
      "execution_count": 575,
      "outputs": [
        {
          "output_type": "execute_result",
          "data": {
            "text/plain": [
              "<matplotlib.axes._subplots.AxesSubplot at 0x7fbf4edd2d90>"
            ]
          },
          "metadata": {},
          "execution_count": 575
        },
        {
          "output_type": "display_data",
          "data": {
            "text/plain": [
              "<Figure size 432x288 with 1 Axes>"
            ],
            "image/png": "[encoded data removed]"
          },
          "metadata": {
            "needs_background": "light"
          }
        }
      ]
    },
    {
      "cell_type": "code",
      "source": [
        ""
      ],
      "metadata": {
        "id": "UDrstXCw5rnx"
      },
      "execution_count": 575,
      "outputs": []
    }
  ]
}
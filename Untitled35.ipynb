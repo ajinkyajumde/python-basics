{
  "nbformat": 4,
  "nbformat_minor": 0,
  "metadata": {
    "colab": {
      "provenance": [],
      "authorship_tag": "ABX9TyNRMPquMzkGkJejWl3znXLD",
      "include_colab_link": true
    },
    "kernelspec": {
      "name": "python3",
      "display_name": "Python 3"
    },
    "language_info": {
      "name": "python"
    }
  },
  "cells": [
    {
      "cell_type": "markdown",
      "metadata": {
        "id": "view-in-github",
        "colab_type": "text"
      },
      "source": [
        "<a href=\"https://colab.research.google.com/github/ajinkyajumde/python-basics/blob/main/Untitled35.ipynb\" target=\"_parent\"><img src=\"https://colab.research.google.com/assets/colab-badge.svg\" alt=\"Open In Colab\"/></a>"
      ]
    },
    {
      "cell_type": "markdown",
      "source": [
        "Compute sum\n",
        "Medium\n",
        "Surprisingly there are only three numbers that can be written as the sum of fourth powers of their digits:\n",
        "\n",
        "1634 = 1^4 + 6^4 + 3^4 + 4^4\n",
        "\n",
        "8208 = 8^4 + 2^4 + 0^4 + 8^4\n",
        "\n",
        "9474 = 9^4 + 4^4 + 7^4 + 4^4\n",
        "\n",
        "As 1 = 1^4 is not a sum it is not included.\n",
        "\n",
        "The sum of these numbers is 1634 + 8208 + 9474 = 19316.\n",
        "\n",
        "Write a Python program to find the sum of all the numbers (within certain range) that can be written as the sum of fifth powers of their digits.\n",
        "\n",
        "Example 1:\n",
        "Input:\n",
        "range=1000000\n",
        "\n",
        "Output:\n",
        "443839"
      ],
      "metadata": {
        "id": "uN7n_UU-t7Q_"
      }
    },
    {
      "cell_type": "code",
      "execution_count": 22,
      "metadata": {
        "colab": {
          "base_uri": "https://localhost:8080/"
        },
        "id": "4E8vnAtIkUGm",
        "outputId": "6145ddac-09d6-4d17-8b15-b68975f93bbe"
      },
      "outputs": [
        {
          "output_type": "stream",
          "name": "stdout",
          "text": [
            "1000000\n",
            "443839\n"
          ]
        }
      ],
      "source": [
        "i=range(int(input()))\n",
        "ans=[]\n",
        "for k in i:\n",
        "  n=list(str(k))\n",
        "  s=0\n",
        "  for j in range(0,len(n)):\n",
        "    s=s+int(n[j])**5\n",
        "  if s==k:\n",
        "    ans.append(k)\n",
        "  else:\n",
        "    pass\n",
        "import numpy as np\n",
        "print(np.sum(np.array(ans[2:])))\n",
        "\n",
        "\n"
      ]
    },
    {
      "cell_type": "code",
      "source": [
        "import numpy as np\n",
        "np.sum(np.array(ans[2:]))"
      ],
      "metadata": {
        "colab": {
          "base_uri": "https://localhost:8080/"
        },
        "id": "YrCOxv26l8eL",
        "outputId": "f703e104-ac98-49cf-b1b5-5b72b68f71d9"
      },
      "execution_count": 21,
      "outputs": [
        {
          "output_type": "execute_result",
          "data": {
            "text/plain": [
              "8301"
            ]
          },
          "metadata": {},
          "execution_count": 21
        }
      ]
    },
    {
      "cell_type": "markdown",
      "source": [
        "Find vowels from each word\n",
        "Medium\n",
        "Write a Python program to find the vowels from each of the original texts (y counts as a vowel at the end of the word) from a given list of strings.\n",
        "\n",
        "Example 1:\n",
        "Input:\n",
        "['w3resource', 'Python', 'Java', 'C++']\n",
        "\n",
        "Output:\n",
        "['eoue', 'o', 'aa', '']\n",
        "\n",
        "Example 2:\n",
        "Input:\n",
        "['ably', 'abruptly', 'abecedary', 'apparently', 'acknowledgedly']\n",
        "\n",
        "Output:\n",
        "['ay', 'auy', 'aeeay', 'aaey', 'aoeey']"
      ],
      "metadata": {
        "id": "IbwCebYKt1r_"
      }
    },
    {
      "cell_type": "code",
      "source": [
        "#Please ensure the platform IDE is in Python 3.x mode.\n",
        "#If you face any issue here, you may write the code on colab/jupyter. \n",
        "#Then, paste the code snippet here and run test cases.\n",
        "\n",
        "n = eval(input())\n",
        "ans=[]\n",
        "for i in n:\n",
        "  j=[]\n",
        "  for k in list(i):\n",
        "    if (k in 'aeiou'):\n",
        "\n",
        "      j.append(k)\n",
        "  if i[-1]=='y':\n",
        "    j.append('y')\n",
        "\n",
        "  ans.append(''.join(j))\n",
        "print(ans)"
      ],
      "metadata": {
        "colab": {
          "base_uri": "https://localhost:8080/"
        },
        "id": "jBTj4s6_nKkN",
        "outputId": "9fb37ee3-e170-4124-b7f4-0c8e34462415"
      },
      "execution_count": 37,
      "outputs": [
        {
          "output_type": "stream",
          "name": "stdout",
          "text": [
            "'ably', 'abruptly', 'abecedary', 'apparently', 'acknowledgedly'\n",
            "['ay', 'auy', 'aeeay', 'aaey', 'aoeey']\n"
          ]
        }
      ]
    },
    {
      "cell_type": "code",
      "source": [
        "ans"
      ],
      "metadata": {
        "colab": {
          "base_uri": "https://localhost:8080/"
        },
        "id": "lFdxdNncnMx0",
        "outputId": "5f64bd9a-4b9e-42b7-f01c-ec0a95745e59"
      },
      "execution_count": 26,
      "outputs": [
        {
          "output_type": "execute_result",
          "data": {
            "text/plain": [
              "['a', 'au', 'aeea', 'aae', 'aoee']"
            ]
          },
          "metadata": {},
          "execution_count": 26
        }
      ]
    },
    {
      "cell_type": "code",
      "source": [],
      "metadata": {
        "id": "Key17tGbqS9C"
      },
      "execution_count": null,
      "outputs": []
    },
    {
      "cell_type": "markdown",
      "source": [
        "Check extension\n",
        "Medium\n",
        "A valid filename should end in .txt, .exe, .jpg, .png, or .dll, and should have at most three digits, no additional periods.\n",
        "\n",
        "Write a Python program to create a list of True/False that determine whether candidate filename is valid or not.\n",
        "\n",
        "Example 1:\n",
        "Input:\n",
        "['abc.txt', 'windows.dll', 'tiger.png', 'rose.jpg', 'test.py', 'win32.exe']\n",
        "\n",
        "Output:\n",
        "['Yes', 'Yes', 'Yes', 'Yes', 'No', 'Yes']"
      ],
      "metadata": {
        "id": "rZgmuMg8uA6W"
      }
    },
    {
      "cell_type": "code",
      "source": [
        "#Please ensure the platform IDE is in Python 3.x mode.   in ['.txt', '.exe', '.jpg', '.png', '.dll']\n",
        "#If you face any issue here, you may write the code on colab/jupyter. \n",
        "#Then, paste the code snippet here and run test cases.\n",
        "def counter(st):\n",
        "  st=list(st)\n",
        "  count=0\n",
        "  for i in st:\n",
        "    \n",
        "    try:\n",
        "\n",
        "      if int(i)==int(i):\n",
        "        count=count+1\n",
        "    except:\n",
        "      pass\n",
        "  return count\n",
        "\n",
        "n = eval(input())\n",
        "j=['Yes' if ((i[::-1][0:4][::-1] in ['.txt', '.exe', '.jpg', '.png', '.dll'] ) and counter(i)<4) else 'No' for i in n]\n",
        "print(j)"
      ],
      "metadata": {
        "id": "U2Izn-rpuCcn"
      },
      "execution_count": null,
      "outputs": []
    },
    {
      "cell_type": "markdown",
      "source": [
        "Convert numbers to words\n",
        "Medium\n",
        "Write a Python program to get the single digits in numbers sorted backwards and converted to English words.\n",
        "\n",
        "Example 1:\n",
        "Input:\n",
        "[1, 3, 4, 5, 11]\n",
        "\n",
        "Output:\n",
        "['five', 'four', 'three', 'one']"
      ],
      "metadata": {
        "id": "gQNI43YmuAuA"
      }
    },
    {
      "cell_type": "code",
      "source": [
        "#Please ensure the platform IDE is in Python 3.x mode.\n",
        "#If you face any issue here, you may write the code on colab/jupyter. \n",
        "#Then, paste the code snippet here and run test cases.\n",
        "\n",
        "n = eval(input())\n",
        "a=[1,2,3,4,5,6,7,8,9]\n",
        "b=['one','two','three','four','five','six','seven','eight','nine']\n",
        "n=sorted(n)[::-1]\n",
        "output=[b[a.index(i)] for i in n if i in a]\n",
        "print(output)"
      ],
      "metadata": {
        "id": "qau5iCrluJzm"
      },
      "execution_count": null,
      "outputs": []
    },
    {
      "cell_type": "markdown",
      "source": [
        "Find index and sum\n",
        "Medium\n",
        "Write a Python program to find the index of the largest prime in the list and the sum of its digits.\n",
        "\n",
        "Example 1:\n",
        "Input:\n",
        "[3, 7, 4]\n",
        "\n",
        "Output:\n",
        "Index of the largest prime in the said list and the sum of its digits:\n",
        "\n",
        "[1, 7]"
      ],
      "metadata": {
        "id": "3mv4YOQguNAQ"
      }
    },
    {
      "cell_type": "code",
      "source": [
        "#Please ensure the platform IDE is in Python 3.x mode.\n",
        "#If you face any issue here, you may write the code on colab/jupyter. \n",
        "#Then, paste the code snippet here and run test cases.\n",
        "\n",
        "inp = eval(input())\n",
        "\n",
        "pri=[]\n",
        "for i in range(2,max(inp)+1):\n",
        "  count=0\n",
        "  for j in range(2,i):\n",
        "    if i%j==0 and i!=j:\n",
        "      count=count+1\n",
        "    else:\n",
        "      pass\n",
        "  if count==0:\n",
        "    pri.append(i)\n",
        "print('Index of the largest prime in the said list and the sum of its digits:')\n",
        "print([inp.index(pri[-1]),pri[-1]])"
      ],
      "metadata": {
        "colab": {
          "base_uri": "https://localhost:8080/"
        },
        "id": "UDMFiNWYubj3",
        "outputId": "6fe88b2d-c9d2-49a8-f8e0-00414a5f2122"
      },
      "execution_count": 43,
      "outputs": [
        {
          "output_type": "stream",
          "name": "stdout",
          "text": [
            "3,7,4,5\n",
            "Index of the largest prime in the said list and the sum of its digits:\n",
            "[1, 7]\n"
          ]
        }
      ]
    },
    {
      "cell_type": "code",
      "source": [
        "pri"
      ],
      "metadata": {
        "colab": {
          "base_uri": "https://localhost:8080/"
        },
        "id": "eTxj1jjVv2fD",
        "outputId": "74aef71e-8f4c-483b-e88b-5f53cf567b8c"
      },
      "execution_count": 44,
      "outputs": [
        {
          "output_type": "execute_result",
          "data": {
            "text/plain": [
              "[2, 3, 5, 7]"
            ]
          },
          "metadata": {},
          "execution_count": 44
        }
      ]
    },
    {
      "cell_type": "code",
      "source": [],
      "metadata": {
        "id": "6mwqW7o5wm_Z"
      },
      "execution_count": null,
      "outputs": []
    }
  ]
}
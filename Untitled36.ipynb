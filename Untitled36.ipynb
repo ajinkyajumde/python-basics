{
  "nbformat": 4,
  "nbformat_minor": 0,
  "metadata": {
    "colab": {
      "provenance": [],
      "authorship_tag": "ABX9TyNA6km3+UCaS2B5xGQY8HFw",
      "include_colab_link": true
    },
    "kernelspec": {
      "name": "python3",
      "display_name": "Python 3"
    },
    "language_info": {
      "name": "python"
    }
  },
  "cells": [
    {
      "cell_type": "markdown",
      "metadata": {
        "id": "view-in-github",
        "colab_type": "text"
      },
      "source": [
        "<a href=\"https://colab.research.google.com/github/ajinkyajumde/python-basics/blob/main/Untitled36.ipynb\" target=\"_parent\"><img src=\"https://colab.research.google.com/assets/colab-badge.svg\" alt=\"Open In Colab\"/></a>"
      ]
    },
    {
      "cell_type": "markdown",
      "source": [
        "Closest distinct numbers\n",
        "Medium\n",
        "Write a Python program to find the two closest distinct numbers in a given a list of numbers.\n",
        "\n",
        "Example 1:\n",
        "Input:\n",
        "[1.3, 5.24, 0.89, 21.0, 5.27, 1.3]\n",
        "\n",
        "Output:\n",
        "[5.24, 5.27]"
      ],
      "metadata": {
        "id": "5HKekrq92b_e"
      }
    },
    {
      "cell_type": "code",
      "execution_count": 8,
      "metadata": {
        "colab": {
          "base_uri": "https://localhost:8080/"
        },
        "id": "tScSfrj82RCe",
        "outputId": "3daae0d0-6b80-4dfc-e232-d474ceeeb017"
      },
      "outputs": [
        {
          "output_type": "stream",
          "name": "stdout",
          "text": [
            "1.3, 5.24, 0.89, 21.0, 5.27, 1.3\n",
            "[5.27, 5.24]\n"
          ]
        }
      ],
      "source": [
        "#Please ensure the platform IDE is in Python 3.x mode.\n",
        "#If you face any issue here, you may write the code on colab/jupyter. \n",
        "#Then, paste the code snippet here and run test cases.\n",
        "\n",
        "lst = eval(input())\n",
        "ans=[]\n",
        "vals=[]\n",
        "for i in range(0,len(lst)-1):\n",
        "  for j in range(i+1,len(lst)):\n",
        "    if lst[i]!=lst[j]:\n",
        "\n",
        "      ans.append(abs(lst[j]-lst[i]))\n",
        "      vals.append([lst[j],lst[i]])\n",
        "\n",
        "print(vals[ans.index(min(ans))])"
      ]
    },
    {
      "cell_type": "code",
      "source": [
        "ans"
      ],
      "metadata": {
        "colab": {
          "base_uri": "https://localhost:8080/"
        },
        "id": "Cw88ZsuS2Xzq",
        "outputId": "b6909e11-dc83-41c9-fe5b-d22a7c4e7419"
      },
      "execution_count": 5,
      "outputs": [
        {
          "output_type": "execute_result",
          "data": {
            "text/plain": [
              "[3.9400000000000004,\n",
              " 0.41000000000000003,\n",
              " 19.7,\n",
              " 3.9699999999999998,\n",
              " 0.0,\n",
              " 4.3500000000000005,\n",
              " 15.76,\n",
              " 0.02999999999999936,\n",
              " 3.9400000000000004,\n",
              " 20.11,\n",
              " 4.38,\n",
              " 0.41000000000000003,\n",
              " 15.73,\n",
              " 19.7,\n",
              " 3.9699999999999998]"
            ]
          },
          "metadata": {},
          "execution_count": 5
        }
      ]
    },
    {
      "cell_type": "code",
      "source": [
        "vals"
      ],
      "metadata": {
        "colab": {
          "base_uri": "https://localhost:8080/"
        },
        "id": "KnHXLV6b2ivD",
        "outputId": "dae15820-f24c-4a62-9b53-3eb10368b9c2"
      },
      "execution_count": 6,
      "outputs": [
        {
          "output_type": "execute_result",
          "data": {
            "text/plain": [
              "[[5.24, 1.3],\n",
              " [0.89, 1.3],\n",
              " [21.0, 1.3],\n",
              " [5.27, 1.3],\n",
              " [1.3, 1.3],\n",
              " [0.89, 5.24],\n",
              " [21.0, 5.24],\n",
              " [5.27, 5.24],\n",
              " [1.3, 5.24],\n",
              " [21.0, 0.89],\n",
              " [5.27, 0.89],\n",
              " [1.3, 0.89],\n",
              " [5.27, 21.0],\n",
              " [1.3, 21.0],\n",
              " [1.3, 5.27]]"
            ]
          },
          "metadata": {},
          "execution_count": 6
        }
      ]
    },
    {
      "cell_type": "code",
      "source": [],
      "metadata": {
        "id": "u1wSPVLU2jiS"
      },
      "execution_count": null,
      "outputs": []
    }
  ]
}
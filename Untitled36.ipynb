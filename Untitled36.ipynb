{
  "nbformat": 4,
  "nbformat_minor": 0,
  "metadata": {
    "colab": {
      "provenance": [],
      "authorship_tag": "ABX9TyPDVv9mXZM3RIJj3/+IWFtc",
      "include_colab_link": true
    },
    "kernelspec": {
      "name": "python3",
      "display_name": "Python 3"
    },
    "language_info": {
      "name": "python"
    }
  },
  "cells": [
    {
      "cell_type": "markdown",
      "metadata": {
        "id": "view-in-github",
        "colab_type": "text"
      },
      "source": [
        "<a href=\"https://colab.research.google.com/github/ajinkyajumde/python-basics/blob/main/Untitled36.ipynb\" target=\"_parent\"><img src=\"https://colab.research.google.com/assets/colab-badge.svg\" alt=\"Open In Colab\"/></a>"
      ]
    },
    {
      "cell_type": "markdown",
      "source": [
        "Closest distinct numbers\n",
        "Medium\n",
        "Write a Python program to find the two closest distinct numbers in a given a list of numbers.\n",
        "\n",
        "Example 1:\n",
        "Input:\n",
        "[1.3, 5.24, 0.89, 21.0, 5.27, 1.3]\n",
        "\n",
        "Output:\n",
        "[5.24, 5.27]"
      ],
      "metadata": {
        "id": "5HKekrq92b_e"
      }
    },
    {
      "cell_type": "code",
      "execution_count": 11,
      "metadata": {
        "colab": {
          "base_uri": "https://localhost:8080/"
        },
        "id": "tScSfrj82RCe",
        "outputId": "ba96ba42-615a-4532-8cfa-38843085ef41"
      },
      "outputs": [
        {
          "output_type": "stream",
          "name": "stdout",
          "text": [
            "1,2,3,4,5,6,7,8,9\n",
            "[1, 2]\n"
          ]
        }
      ],
      "source": [
        "\n",
        "#Please ensure the platform IDE is in Python 3.x mode.\n",
        "#If you face any issue here, you may write the code on colab/jupyter. \n",
        "#Then, paste the code snippet here and run test cases.\n",
        "\n",
        "lst = eval(input())\n",
        "ans=[]\n",
        "vals=[]\n",
        "for i in range(0,len(lst)-1):\n",
        "  for j in range(i+1,len(lst)):\n",
        "    if lst[i]!=lst[j]:\n",
        "\n",
        "      ans.append(abs(lst[j]-lst[i]))\n",
        "      vals.append([lst[j],lst[i]])\n",
        "\n",
        "print(sorted(vals[ans.index(min(ans))]))\n"
      ]
    },
    {
      "cell_type": "code",
      "source": [
        "ans"
      ],
      "metadata": {
        "colab": {
          "base_uri": "https://localhost:8080/"
        },
        "id": "Cw88ZsuS2Xzq",
        "outputId": "af511c0d-34f9-414d-d7b5-add7c60d8c24"
      },
      "execution_count": 12,
      "outputs": [
        {
          "output_type": "execute_result",
          "data": {
            "text/plain": [
              "[1,\n",
              " 2,\n",
              " 3,\n",
              " 4,\n",
              " 5,\n",
              " 6,\n",
              " 7,\n",
              " 8,\n",
              " 1,\n",
              " 2,\n",
              " 3,\n",
              " 4,\n",
              " 5,\n",
              " 6,\n",
              " 7,\n",
              " 1,\n",
              " 2,\n",
              " 3,\n",
              " 4,\n",
              " 5,\n",
              " 6,\n",
              " 1,\n",
              " 2,\n",
              " 3,\n",
              " 4,\n",
              " 5,\n",
              " 1,\n",
              " 2,\n",
              " 3,\n",
              " 4,\n",
              " 1,\n",
              " 2,\n",
              " 3,\n",
              " 1,\n",
              " 2,\n",
              " 1]"
            ]
          },
          "metadata": {},
          "execution_count": 12
        }
      ]
    },
    {
      "cell_type": "code",
      "source": [
        "vals"
      ],
      "metadata": {
        "colab": {
          "base_uri": "https://localhost:8080/"
        },
        "id": "KnHXLV6b2ivD",
        "outputId": "a44e38f6-ec24-43aa-f552-7673e8cd925c"
      },
      "execution_count": 13,
      "outputs": [
        {
          "output_type": "execute_result",
          "data": {
            "text/plain": [
              "[[2, 1],\n",
              " [3, 1],\n",
              " [4, 1],\n",
              " [5, 1],\n",
              " [6, 1],\n",
              " [7, 1],\n",
              " [8, 1],\n",
              " [9, 1],\n",
              " [3, 2],\n",
              " [4, 2],\n",
              " [5, 2],\n",
              " [6, 2],\n",
              " [7, 2],\n",
              " [8, 2],\n",
              " [9, 2],\n",
              " [4, 3],\n",
              " [5, 3],\n",
              " [6, 3],\n",
              " [7, 3],\n",
              " [8, 3],\n",
              " [9, 3],\n",
              " [5, 4],\n",
              " [6, 4],\n",
              " [7, 4],\n",
              " [8, 4],\n",
              " [9, 4],\n",
              " [6, 5],\n",
              " [7, 5],\n",
              " [8, 5],\n",
              " [9, 5],\n",
              " [7, 6],\n",
              " [8, 6],\n",
              " [9, 6],\n",
              " [8, 7],\n",
              " [9, 7],\n",
              " [9, 8]]"
            ]
          },
          "metadata": {},
          "execution_count": 13
        }
      ]
    },
    {
      "cell_type": "markdown",
      "source": [
        "Find all 5's in integers\n",
        "Medium\n",
        "Write a Python program to find all 5's in integers less than n that are divisible by 9 or 15.\n",
        "\n",
        "Example 1:\n",
        "Input:\n",
        "50\n",
        "\n",
        "Output:\n",
        "[[15, 1], [45, 1]]\n",
        "\n",
        "Example 2:\n",
        "Input:\n",
        "65\n",
        "\n",
        "Output:\n",
        "[[15, 1], [45, 1], [54, 0]]"
      ],
      "metadata": {
        "id": "wVjMnplY5-F9"
      }
    },
    {
      "cell_type": "code",
      "source": [
        "n=int(input())\n",
        "k=[[i,str(i).index('5')] for i in range(15,n) if (i%9==0 or i%15==0) and str(i).count('5')>0]\n",
        "print(k)\n",
        "\n"
      ],
      "metadata": {
        "colab": {
          "base_uri": "https://localhost:8080/"
        },
        "id": "u1wSPVLU2jiS",
        "outputId": "91a554cd-e56a-4376-8f9f-8a004d76d51b"
      },
      "execution_count": 16,
      "outputs": [
        {
          "output_type": "stream",
          "name": "stdout",
          "text": [
            "50\n",
            "[[15, 1], [45, 1]]\n"
          ]
        }
      ]
    },
    {
      "cell_type": "code",
      "source": [
        "i='1235'\n",
        "i.count('1')"
      ],
      "metadata": {
        "colab": {
          "base_uri": "https://localhost:8080/"
        },
        "id": "rztI3jVo5NkE",
        "outputId": "42d1aa69-7e9b-4a7d-b2dd-37ab3b265645"
      },
      "execution_count": 14,
      "outputs": [
        {
          "output_type": "execute_result",
          "data": {
            "text/plain": [
              "1"
            ]
          },
          "metadata": {},
          "execution_count": 14
        }
      ]
    },
    {
      "cell_type": "markdown",
      "source": [
        "Shift decimal digits\n",
        "Medium\n",
        "Write a Python program to shift the decimal digits n places to the left, wrapping the extra digits around. If shift > the number of digits of n, reverse the string.\n",
        "\n",
        "Example 1:\n",
        "Input:\n",
        "12345\n",
        "\n",
        "1\n",
        "\n",
        "Output:\n",
        "23451\n",
        "\n",
        "Example 2:\n",
        "Input:\n",
        "12345\n",
        "\n",
        "2\n",
        "\n",
        "Output:\n",
        "34512"
      ],
      "metadata": {
        "id": "ayRtuccM6wrn"
      }
    },
    {
      "cell_type": "code",
      "source": [
        "#Please ensure the platform IDE is in Python 3.x mode.\n",
        "#If you face any issue here, you may write the code on colab/jupyter. \n",
        "#Then, paste the code snippet here and run test cases.\n",
        "\n",
        "n = str(input())\n",
        "shift= int(input())\n",
        "if shift>=len(n):\n",
        "  print(int(n[::-1]))\n",
        "else:\n",
        "  final=n[shift:]+n[0:shift] \n",
        "\n",
        "  print(int(final))"
      ],
      "metadata": {
        "colab": {
          "base_uri": "https://localhost:8080/"
        },
        "id": "17x6TNMJ5SFB",
        "outputId": "d8ef9ff8-5376-4c6e-9783-afe0df87b869"
      },
      "execution_count": 19,
      "outputs": [
        {
          "output_type": "stream",
          "name": "stdout",
          "text": [
            "12345\n",
            "6\n",
            "54321\n"
          ]
        }
      ]
    },
    {
      "cell_type": "markdown",
      "source": [
        "Sum of even elements\n",
        "Medium\n",
        "Write a Python program to find the sum of the even elements that are at odd indices.\n",
        "\n",
        "Example 1:\n",
        "Input:\n",
        "[1, 2, 8, 3, 9, 4]\n",
        "\n",
        "Output:\n",
        "6"
      ],
      "metadata": {
        "id": "mgJDdWuC84MV"
      }
    },
    {
      "cell_type": "code",
      "source": [
        "n=eval(input())\n",
        "j=n[1::2]\n",
        "k=[i for i in j if i%2==0]\n",
        "print(sum(k))"
      ],
      "metadata": {
        "colab": {
          "base_uri": "https://localhost:8080/"
        },
        "id": "5Nk804od7ILA",
        "outputId": "f4d2cb8b-489f-468f-d695-63b0128e40c7"
      },
      "execution_count": 22,
      "outputs": [
        {
          "output_type": "stream",
          "name": "stdout",
          "text": [
            "1, 2, 8, 3, 9, 4\n",
            "6\n"
          ]
        }
      ]
    },
    {
      "cell_type": "markdown",
      "source": [
        "Factorial using recursive method\n",
        "Hard\n",
        "Write a python program to find the factorial of the number using recursion method.\n",
        "\n",
        "Example 1:\n",
        "Input:\n",
        "num= 5\n",
        "\n",
        "Output:\n",
        "Factorial of 5 is 120\n",
        "\n",
        "Example 2:\n",
        "Input:\n",
        "num= 0\n",
        "\n",
        "Output:\n",
        "Factorial of 0 is 1\n",
        "\n",
        "Example 3:\n",
        "Input:\n",
        "num= -5\n",
        "\n",
        "Output:\n",
        "Factorial can't be calculated for negative number"
      ],
      "metadata": {
        "id": "uZjjJHm6-nne"
      }
    },
    {
      "cell_type": "code",
      "source": [
        "k=int(input())\n",
        "if k==0:\n",
        "  print('Factorial of 0 is 1')\n",
        "elif k<0:\n",
        "  print(\"Factorial can't be calculated for negative number\")\n",
        "else:\n",
        "  mult=1\n",
        "  for i in range(1,k+1):\n",
        "    mult=mult*i\n",
        "  print(f'Factorial of {k} is {mult}')"
      ],
      "metadata": {
        "colab": {
          "base_uri": "https://localhost:8080/"
        },
        "id": "YiieXNfR9n4b",
        "outputId": "a76ba346-de3b-45fd-c9df-9c9bd82b10b4"
      },
      "execution_count": 24,
      "outputs": [
        {
          "output_type": "stream",
          "name": "stdout",
          "text": [
            "5\n",
            "Factorial of 5 is mult120\n"
          ]
        }
      ]
    },
    {
      "cell_type": "code",
      "source": [],
      "metadata": {
        "id": "1AtCSJ5E_O6J"
      },
      "execution_count": null,
      "outputs": []
    }
  ]
}
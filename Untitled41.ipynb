{
  "nbformat": 4,
  "nbformat_minor": 0,
  "metadata": {
    "colab": {
      "provenance": [],
      "authorship_tag": "ABX9TyOGJJELNzrnY0WAAUKlh/tL",
      "include_colab_link": true
    },
    "kernelspec": {
      "name": "python3",
      "display_name": "Python 3"
    },
    "language_info": {
      "name": "python"
    }
  },
  "cells": [
    {
      "cell_type": "markdown",
      "metadata": {
        "id": "view-in-github",
        "colab_type": "text"
      },
      "source": [
        "<a href=\"https://colab.research.google.com/github/ajinkyajumde/python-basics/blob/main/Untitled41.ipynb\" target=\"_parent\"><img src=\"https://colab.research.google.com/assets/colab-badge.svg\" alt=\"Open In Colab\"/></a>"
      ]
    },
    {
      "cell_type": "markdown",
      "source": [
        "Fibonacci using recursive method\n",
        "Hard\n",
        "Write a Python program to print Fibonacci series using recursive methods.\n",
        "\n",
        "Example 1:\n",
        "Input:\n",
        "num= 5\n",
        "\n",
        "Output:\n",
        "Fibonacci Series:\n",
        "\n",
        "0,1,1,2,3,\n",
        "\n",
        "Example 2:\n",
        "Input:\n",
        "num= 10\n",
        "\n",
        "Output:\n",
        "Fibonacci Series:\n",
        "\n",
        "0,1,1,2,3,5,8,13,21,34,\n",
        "\n",
        "Example 3:\n",
        "Input:\n",
        "num= 15\n",
        "\n",
        "Output:\n",
        "Fibonacci Series:\n",
        "\n",
        "0,1,1,2,3,5,8,13,21,34,55,89,144,233,377,"
      ],
      "metadata": {
        "id": "Zz9iQ1M89dZf"
      }
    },
    {
      "cell_type": "code",
      "source": [
        "#  Write your query here\n",
        "num=int(input())\n",
        "l=[0,1]\n",
        "for i in range(2,num):\n",
        "    l.append(l[i-1]+l[i-2])\n",
        "print('Fibonacci Series:')\n",
        "for i in l:\n",
        "    print(i,end=',')\n"
      ],
      "metadata": {
        "id": "moOV71rW9d0l"
      },
      "execution_count": null,
      "outputs": []
    },
    {
      "cell_type": "markdown",
      "source": [
        "Write a program in Python to check a given number is palindrome or not using recursive method.\n",
        "\n",
        "Example 1:\n",
        "Input:\n",
        "num= 565\n",
        "\n",
        "Output:\n",
        "It is Palindrome\n",
        "\n",
        "Example 2:\n",
        "Input:\n",
        "num= 123456\n",
        "\n",
        "Output:\n",
        "It is not Palindrome\n",
        "\n",
        "Example 3:\n",
        "Input:\n",
        "num= 1223221\n",
        "\n",
        "Output:\n",
        "It is Palindrome"
      ],
      "metadata": {
        "id": "_zco6hyk9Xwz"
      }
    },
    {
      "cell_type": "code",
      "source": [
        "#Please ensure the platform IDE is in Python 3.x mode.\n",
        "#If you face any issue here, you may write the code on colab or jupyter. \n",
        "#Then, paste the code snippet here and run test cases.\n",
        "\n",
        "num = str(input())\n",
        "num1=num[::-1]\n",
        "if num1==num:\n",
        "    print('It is Palindrome')\n",
        "else:\n",
        "    print('It is not Palindrome')\n"
      ],
      "metadata": {
        "id": "zahCEKwl9XBx"
      },
      "execution_count": null,
      "outputs": []
    },
    {
      "cell_type": "markdown",
      "source": [
        "Find alphanumeric words\n",
        "Hard\n",
        "Write a program to find words with both alphabets and numbers from an input string.\n",
        "\n",
        "Example 1:\n",
        "Input:\n",
        "string= Emma25 is Data scientist50 and AI Expert\n",
        "\n",
        "Output:\n",
        "Displaying words with alphabets and numbers\n",
        "\n",
        "Emma25\n",
        "\n",
        "scientist50"
      ],
      "metadata": {
        "id": "EqwGMHqw9VOP"
      }
    },
    {
      "cell_type": "code",
      "execution_count": 10,
      "metadata": {
        "colab": {
          "base_uri": "https://localhost:8080/"
        },
        "id": "8fMXlvw86ZqZ",
        "outputId": "ef8a3995-d210-41bc-be6f-8c67dbf1f763"
      },
      "outputs": [
        {
          "output_type": "stream",
          "name": "stdout",
          "text": [
            "ajinkya111 ajink\n",
            "ajinkya111\n"
          ]
        }
      ],
      "source": [
        "#Please ensure the platform IDE is in Python 3.x mode.\n",
        "#If you face any issue here, you may write the code on colab or jupyter. \n",
        "#Then, paste the code snippet here and run test cases.\n",
        "inp=str(input()).split(' ')\n",
        "for i in inp:\n",
        "  c=0\n",
        "  d=0\n",
        "  for j in list(i):\n",
        "    if j.isdigit():\n",
        "      d=d+1\n",
        "    if j.isalpha():\n",
        "      c=c+1\n",
        "  if d>0 and c>0:\n",
        "    print(i)\n",
        "  else:\n",
        "    pass"
      ]
    },
    {
      "cell_type": "markdown",
      "source": [
        "Pack consecutive duplicates\n",
        "Hard\n",
        "Write a Python program to pack consecutive duplicates of a given list elements into sublists.\n",
        "\n",
        "Example 1:\n",
        "Input:\n",
        "List= [0, 0, 1, 2, 3, 4, 4, 5, 6, 6, 6, 7, 8, 9]\n",
        "\n",
        "Output:\n",
        "[[0, 0], [1], [2], [3], [4, 4], [5], [6, 6, 6], [7], [8], [9]]"
      ],
      "metadata": {
        "id": "37ZyJ3Lb9Q1n"
      }
    },
    {
      "cell_type": "code",
      "source": [
        "#Please ensure the platform IDE is in Python 3.x mode.\n",
        "#If you face any issue here, you may write the code on colab or jupyter. \n",
        "#Then, paste the code snippet here and run test cases.\n",
        "\n",
        "l=eval(input())"
      ],
      "metadata": {
        "id": "1ZOdRbn96aQ6"
      },
      "execution_count": null,
      "outputs": []
    }
  ]
}